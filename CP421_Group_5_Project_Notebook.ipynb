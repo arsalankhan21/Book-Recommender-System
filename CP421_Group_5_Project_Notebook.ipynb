{
  "nbformat": 4,
  "nbformat_minor": 0,
  "metadata": {
    "colab": {
      "provenance": []
    },
    "kernelspec": {
      "name": "python3",
      "display_name": "Python 3"
    },
    "language_info": {
      "name": "python"
    }
  },
  "cells": [
    {
      "cell_type": "markdown",
      "source": [
        "# CP421 Data Mining - Project\n",
        "**Due Date:** Dec 8th, 2024 at 11:59 PM\n",
        "\n",
        "## Project Members:\n",
        "\n",
        "- Arsalan Khan\n",
        "- Waleed Ghufran\n",
        "- Spencer Robson\n",
        "- Asil Khan\n",
        "- Aliha Ali\n",
        "- Qusai Almasri\n",
        "\n",
        "---\n",
        "\n",
        "## **Book Recommendation System**\n",
        "\n",
        "### **Introduction**\n",
        "\n",
        "In this project, we develop a book recommendation system using various data mining techniques. We utilize the Book-Crossing dataset from Kaggle, which contains user ratings for a vast collection of books. Our goal is to implement different recommendation approaches, compare their performance, and enhance the system's accuracy by incorporating advanced methods.\n",
        "\n",
        "We explore the following recommendation techniques:\n",
        "\n",
        "- **Baseline Methods:**\n",
        "  - Global Mean\n",
        "  - User Mean\n",
        "  - Item Mean\n",
        "- **Content-Based Filtering**\n",
        "- **Collaborative Filtering (SVD)**\n",
        "- **Hybrid Recommendation Systems**\n",
        "- **Neural Collaborative Filtering (NCF)**\n",
        "- **Performance Evaluation**\n",
        "\n",
        "---\n",
        "\n",
        "### **Install necessary libraries**\n",
        "\n"
      ],
      "metadata": {
        "id": "nO8mgPOht1CW"
      }
    },
    {
      "cell_type": "code",
      "source": [
        "# Install necessary libraries\n",
        "!pip install kagglehub\n",
        "!pip install scikit-surprise\n",
        "!pip install tensorflow"
      ],
      "metadata": {
        "colab": {
          "base_uri": "https://localhost:8080/",
          "height": 0
        },
        "id": "fenFn6su-mDT",
        "outputId": "006bd4c9-e3be-4df5-acf5-547a1c889f75"
      },
      "execution_count": 1,
      "outputs": [
        {
          "output_type": "stream",
          "name": "stdout",
          "text": [
            "Requirement already satisfied: kagglehub in /usr/local/lib/python3.10/dist-packages (0.3.4)\n",
            "Requirement already satisfied: packaging in /usr/local/lib/python3.10/dist-packages (from kagglehub) (24.2)\n",
            "Requirement already satisfied: requests in /usr/local/lib/python3.10/dist-packages (from kagglehub) (2.32.3)\n",
            "Requirement already satisfied: tqdm in /usr/local/lib/python3.10/dist-packages (from kagglehub) (4.66.6)\n",
            "Requirement already satisfied: charset-normalizer<4,>=2 in /usr/local/lib/python3.10/dist-packages (from requests->kagglehub) (3.4.0)\n",
            "Requirement already satisfied: idna<4,>=2.5 in /usr/local/lib/python3.10/dist-packages (from requests->kagglehub) (3.10)\n",
            "Requirement already satisfied: urllib3<3,>=1.21.1 in /usr/local/lib/python3.10/dist-packages (from requests->kagglehub) (2.2.3)\n",
            "Requirement already satisfied: certifi>=2017.4.17 in /usr/local/lib/python3.10/dist-packages (from requests->kagglehub) (2024.8.30)\n",
            "Collecting scikit-surprise\n",
            "  Downloading scikit_surprise-1.1.4.tar.gz (154 kB)\n",
            "\u001b[2K     \u001b[90m━━━━━━━━━━━━━━━━━━━━━━━━━━━━━━━━━━━━━━━━\u001b[0m \u001b[32m154.4/154.4 kB\u001b[0m \u001b[31m3.4 MB/s\u001b[0m eta \u001b[36m0:00:00\u001b[0m\n",
            "\u001b[?25h  Installing build dependencies ... \u001b[?25l\u001b[?25hdone\n",
            "  Getting requirements to build wheel ... \u001b[?25l\u001b[?25hdone\n",
            "  Preparing metadata (pyproject.toml) ... \u001b[?25l\u001b[?25hdone\n",
            "Requirement already satisfied: joblib>=1.2.0 in /usr/local/lib/python3.10/dist-packages (from scikit-surprise) (1.4.2)\n",
            "Requirement already satisfied: numpy>=1.19.5 in /usr/local/lib/python3.10/dist-packages (from scikit-surprise) (1.26.4)\n",
            "Requirement already satisfied: scipy>=1.6.0 in /usr/local/lib/python3.10/dist-packages (from scikit-surprise) (1.13.1)\n",
            "Building wheels for collected packages: scikit-surprise\n",
            "  Building wheel for scikit-surprise (pyproject.toml) ... \u001b[?25l\u001b[?25hdone\n",
            "  Created wheel for scikit-surprise: filename=scikit_surprise-1.1.4-cp310-cp310-linux_x86_64.whl size=2357287 sha256=16057d8422e32f48796d69f94c02c0eb84282e3498f5aa68888f80e29787d692\n",
            "  Stored in directory: /root/.cache/pip/wheels/4b/3f/df/6acbf0a40397d9bf3ff97f582cc22fb9ce66adde75bc71fd54\n",
            "Successfully built scikit-surprise\n",
            "Installing collected packages: scikit-surprise\n",
            "Successfully installed scikit-surprise-1.1.4\n",
            "Requirement already satisfied: tensorflow in /usr/local/lib/python3.10/dist-packages (2.17.1)\n",
            "Requirement already satisfied: absl-py>=1.0.0 in /usr/local/lib/python3.10/dist-packages (from tensorflow) (1.4.0)\n",
            "Requirement already satisfied: astunparse>=1.6.0 in /usr/local/lib/python3.10/dist-packages (from tensorflow) (1.6.3)\n",
            "Requirement already satisfied: flatbuffers>=24.3.25 in /usr/local/lib/python3.10/dist-packages (from tensorflow) (24.3.25)\n",
            "Requirement already satisfied: gast!=0.5.0,!=0.5.1,!=0.5.2,>=0.2.1 in /usr/local/lib/python3.10/dist-packages (from tensorflow) (0.6.0)\n",
            "Requirement already satisfied: google-pasta>=0.1.1 in /usr/local/lib/python3.10/dist-packages (from tensorflow) (0.2.0)\n",
            "Requirement already satisfied: h5py>=3.10.0 in /usr/local/lib/python3.10/dist-packages (from tensorflow) (3.12.1)\n",
            "Requirement already satisfied: libclang>=13.0.0 in /usr/local/lib/python3.10/dist-packages (from tensorflow) (18.1.1)\n",
            "Requirement already satisfied: ml-dtypes<0.5.0,>=0.3.1 in /usr/local/lib/python3.10/dist-packages (from tensorflow) (0.4.1)\n",
            "Requirement already satisfied: opt-einsum>=2.3.2 in /usr/local/lib/python3.10/dist-packages (from tensorflow) (3.4.0)\n",
            "Requirement already satisfied: packaging in /usr/local/lib/python3.10/dist-packages (from tensorflow) (24.2)\n",
            "Requirement already satisfied: protobuf!=4.21.0,!=4.21.1,!=4.21.2,!=4.21.3,!=4.21.4,!=4.21.5,<5.0.0dev,>=3.20.3 in /usr/local/lib/python3.10/dist-packages (from tensorflow) (4.25.5)\n",
            "Requirement already satisfied: requests<3,>=2.21.0 in /usr/local/lib/python3.10/dist-packages (from tensorflow) (2.32.3)\n",
            "Requirement already satisfied: setuptools in /usr/local/lib/python3.10/dist-packages (from tensorflow) (75.1.0)\n",
            "Requirement already satisfied: six>=1.12.0 in /usr/local/lib/python3.10/dist-packages (from tensorflow) (1.16.0)\n",
            "Requirement already satisfied: termcolor>=1.1.0 in /usr/local/lib/python3.10/dist-packages (from tensorflow) (2.5.0)\n",
            "Requirement already satisfied: typing-extensions>=3.6.6 in /usr/local/lib/python3.10/dist-packages (from tensorflow) (4.12.2)\n",
            "Requirement already satisfied: wrapt>=1.11.0 in /usr/local/lib/python3.10/dist-packages (from tensorflow) (1.16.0)\n",
            "Requirement already satisfied: grpcio<2.0,>=1.24.3 in /usr/local/lib/python3.10/dist-packages (from tensorflow) (1.68.0)\n",
            "Requirement already satisfied: tensorboard<2.18,>=2.17 in /usr/local/lib/python3.10/dist-packages (from tensorflow) (2.17.1)\n",
            "Requirement already satisfied: keras>=3.2.0 in /usr/local/lib/python3.10/dist-packages (from tensorflow) (3.5.0)\n",
            "Requirement already satisfied: tensorflow-io-gcs-filesystem>=0.23.1 in /usr/local/lib/python3.10/dist-packages (from tensorflow) (0.37.1)\n",
            "Requirement already satisfied: numpy<2.0.0,>=1.23.5 in /usr/local/lib/python3.10/dist-packages (from tensorflow) (1.26.4)\n",
            "Requirement already satisfied: wheel<1.0,>=0.23.0 in /usr/local/lib/python3.10/dist-packages (from astunparse>=1.6.0->tensorflow) (0.45.0)\n",
            "Requirement already satisfied: rich in /usr/local/lib/python3.10/dist-packages (from keras>=3.2.0->tensorflow) (13.9.4)\n",
            "Requirement already satisfied: namex in /usr/local/lib/python3.10/dist-packages (from keras>=3.2.0->tensorflow) (0.0.8)\n",
            "Requirement already satisfied: optree in /usr/local/lib/python3.10/dist-packages (from keras>=3.2.0->tensorflow) (0.13.1)\n",
            "Requirement already satisfied: charset-normalizer<4,>=2 in /usr/local/lib/python3.10/dist-packages (from requests<3,>=2.21.0->tensorflow) (3.4.0)\n",
            "Requirement already satisfied: idna<4,>=2.5 in /usr/local/lib/python3.10/dist-packages (from requests<3,>=2.21.0->tensorflow) (3.10)\n",
            "Requirement already satisfied: urllib3<3,>=1.21.1 in /usr/local/lib/python3.10/dist-packages (from requests<3,>=2.21.0->tensorflow) (2.2.3)\n",
            "Requirement already satisfied: certifi>=2017.4.17 in /usr/local/lib/python3.10/dist-packages (from requests<3,>=2.21.0->tensorflow) (2024.8.30)\n",
            "Requirement already satisfied: markdown>=2.6.8 in /usr/local/lib/python3.10/dist-packages (from tensorboard<2.18,>=2.17->tensorflow) (3.7)\n",
            "Requirement already satisfied: tensorboard-data-server<0.8.0,>=0.7.0 in /usr/local/lib/python3.10/dist-packages (from tensorboard<2.18,>=2.17->tensorflow) (0.7.2)\n",
            "Requirement already satisfied: werkzeug>=1.0.1 in /usr/local/lib/python3.10/dist-packages (from tensorboard<2.18,>=2.17->tensorflow) (3.1.3)\n",
            "Requirement already satisfied: MarkupSafe>=2.1.1 in /usr/local/lib/python3.10/dist-packages (from werkzeug>=1.0.1->tensorboard<2.18,>=2.17->tensorflow) (3.0.2)\n",
            "Requirement already satisfied: markdown-it-py>=2.2.0 in /usr/local/lib/python3.10/dist-packages (from rich->keras>=3.2.0->tensorflow) (3.0.0)\n",
            "Requirement already satisfied: pygments<3.0.0,>=2.13.0 in /usr/local/lib/python3.10/dist-packages (from rich->keras>=3.2.0->tensorflow) (2.18.0)\n",
            "Requirement already satisfied: mdurl~=0.1 in /usr/local/lib/python3.10/dist-packages (from markdown-it-py>=2.2.0->rich->keras>=3.2.0->tensorflow) (0.1.2)\n"
          ]
        }
      ]
    },
    {
      "cell_type": "markdown",
      "source": [
        "# Using the `kagglehub` Library to Download the Dataset\n",
        "\n",
        "We use the `kagglehub` library to download the **Book Recommendation** dataset from Kaggle directly into our environment. This dataset contains information about users, books, and ratings, which we will use to build our recommendation system.\n"
      ],
      "metadata": {
        "id": "8YTZkzYmt9gY"
      }
    },
    {
      "cell_type": "markdown",
      "source": [
        "# 📂 **Imports and Loading Dataset**\n"
      ],
      "metadata": {
        "id": "r7G52al7uAlP"
      }
    },
    {
      "cell_type": "code",
      "source": [
        "# Import necessary libraries\n",
        "import pandas as pd\n",
        "import os\n",
        "import numpy as np\n",
        "import matplotlib.pyplot as plt\n",
        "import kagglehub\n",
        "import sklearn\n",
        "from sklearn.model_selection import train_test_split as sklearn_train_test_split\n",
        "from surprise.model_selection import train_test_split as surprise_train_test_split\n",
        "from sklearn.metrics import mean_squared_error, precision_score, recall_score, f1_score\n",
        "from surprise import SVD, Dataset, Reader, accuracy\n",
        "from sklearn.feature_extraction.text import TfidfVectorizer\n",
        "from sklearn.preprocessing import LabelEncoder\n",
        "from sklearn.metrics.pairwise import cosine_similarity\n",
        "import tensorflow as tf\n",
        "from tensorflow.keras.callbacks import EarlyStopping\n",
        "from tensorflow.keras.layers import Input, Embedding, Flatten, Concatenate, Dense, Dropout\n",
        "from tensorflow.keras.models import Model\n",
        "\n",
        "# Download the latest version of the dataset\n",
        "path = kagglehub.dataset_download(\"arashnic/book-recommendation-dataset\")\n",
        "print(\"Path to dataset files:\", path)"
      ],
      "metadata": {
        "id": "3nilVS8U_WMk",
        "colab": {
          "base_uri": "https://localhost:8080/",
          "height": 0
        },
        "outputId": "8a099929-995d-4115-f3bf-3f99c70ef44d"
      },
      "execution_count": 2,
      "outputs": [
        {
          "output_type": "stream",
          "name": "stdout",
          "text": [
            "Downloading from https://www.kaggle.com/api/v1/datasets/download/arashnic/book-recommendation-dataset?dataset_version_number=3...\n"
          ]
        },
        {
          "output_type": "stream",
          "name": "stderr",
          "text": [
            "100%|██████████| 24.3M/24.3M [00:00<00:00, 55.9MB/s]"
          ]
        },
        {
          "output_type": "stream",
          "name": "stdout",
          "text": [
            "Extracting files...\n"
          ]
        },
        {
          "output_type": "stream",
          "name": "stderr",
          "text": [
            "\n"
          ]
        },
        {
          "output_type": "stream",
          "name": "stdout",
          "text": [
            "Path to dataset files: /root/.cache/kagglehub/datasets/arashnic/book-recommendation-dataset/versions/3\n"
          ]
        }
      ]
    },
    {
      "cell_type": "markdown",
      "source": [
        "# 📚 **Reading the Dataset**"
      ],
      "metadata": {
        "id": "v-i_4rasvAQZ"
      }
    },
    {
      "cell_type": "code",
      "source": [
        "# Define dataset path\n",
        "dataset_path = \"/root/.cache/kagglehub/datasets/arashnic/book-recommendation-dataset/versions/3\"\n",
        "\n",
        "# Load datasets\n",
        "users_file = os.path.join(dataset_path, \"Users.csv\")\n",
        "books_file = os.path.join(dataset_path, \"Books.csv\")\n",
        "ratings_file = os.path.join(dataset_path, \"Ratings.csv\")\n",
        "\n",
        "users = pd.read_csv(users_file, delimiter=\",\", encoding=\"latin-1\")\n",
        "books = pd.read_csv(books_file, delimiter=\",\", encoding=\"latin-1\", low_memory=False)\n",
        "ratings = pd.read_csv(ratings_file, delimiter=\",\", encoding=\"latin-1\")\n",
        "\n",
        "# Validate data loading\n",
        "print(\"Users dataset:\", users.shape)\n",
        "print(\"Books dataset:\", books.shape)\n",
        "print(\"Ratings dataset:\", ratings.shape)\n",
        "\n",
        "# Check for missing values\n",
        "print(\"\\nMissing values before handling:\")\n",
        "print(\"Missing values in Users:\", users.isnull().sum())\n",
        "print(\"Missing values in Books:\", books.isnull().sum())\n",
        "print(\"Missing values in Ratings:\", ratings.isnull().sum())\n",
        "\n",
        "# Handle missing Age with random sampling from valid Age distribution\n",
        "valid_ages = users['Age'].dropna()\n",
        "users['Age'] = users['Age'].apply(\n",
        "    lambda x: np.random.choice(valid_ages) if pd.isnull(x) else x\n",
        ")\n",
        "\n",
        "# Clip ages to a reasonable range (e.g., 10–100)\n",
        "users['Age'] = users['Age'].clip(lower=10, upper=100)\n",
        "\n",
        "# Handle invalid Year-Of-Publication while retaining historical values\n",
        "books['Year-Of-Publication'] = pd.to_numeric(books['Year-Of-Publication'], errors='coerce')\n",
        "books['Year-Of-Publication'] = books['Year-Of-Publication'].apply(\n",
        "    lambda x: x if pd.notnull(x) and x > 0 else np.nan\n",
        ")\n",
        "\n",
        "# Impute missing years with a placeholder \"Unknown\" to retain all records\n",
        "books['Year-Of-Publication'].fillna('Unknown', inplace=True)\n",
        "\n",
        "# Fill missing categorical values meaningfully\n",
        "books['Book-Author'] = books['Book-Author'].fillna('Unknown')\n",
        "books['Publisher'] = books['Publisher'].fillna('Unknown')\n",
        "books['Image-URL-L'] = books['Image-URL-L'].fillna('No Image')\n",
        "\n",
        "# **Filter out ratings with zero value**\n",
        "ratings = ratings[ratings['Book-Rating'] != 0]\n",
        "\n",
        "# Validate after handling missing values\n",
        "print(\"\\nMissing values after handling:\")\n",
        "print(\"Missing values in Users:\", users.isnull().sum())\n",
        "print(\"Missing values in Books:\", books.isnull().sum())\n",
        "\n",
        "# Summary Statistics\n",
        "print(\"\\nUsers Summary:\")\n",
        "print(users.describe(include='all'))\n",
        "print(\"\\nBooks Summary:\")\n",
        "print(books.describe(include='all'))\n",
        "print(\"\\nRatings Summary:\")\n",
        "print(ratings.describe(include='all'))\n"
      ],
      "metadata": {
        "colab": {
          "base_uri": "https://localhost:8080/",
          "height": 0
        },
        "id": "RlCqnU53-mIR",
        "outputId": "6d8b17f4-5b8e-4d26-e054-3f1b96d16ad3"
      },
      "execution_count": 3,
      "outputs": [
        {
          "output_type": "stream",
          "name": "stdout",
          "text": [
            "Users dataset: (278858, 3)\n",
            "Books dataset: (271360, 8)\n",
            "Ratings dataset: (1149780, 3)\n",
            "\n",
            "Missing values before handling:\n",
            "Missing values in Users: User-ID          0\n",
            "Location         0\n",
            "Age         110762\n",
            "dtype: int64\n",
            "Missing values in Books: ISBN                   0\n",
            "Book-Title             0\n",
            "Book-Author            2\n",
            "Year-Of-Publication    0\n",
            "Publisher              2\n",
            "Image-URL-S            0\n",
            "Image-URL-M            0\n",
            "Image-URL-L            3\n",
            "dtype: int64\n",
            "Missing values in Ratings: User-ID        0\n",
            "ISBN           0\n",
            "Book-Rating    0\n",
            "dtype: int64\n"
          ]
        },
        {
          "output_type": "stream",
          "name": "stderr",
          "text": [
            "<ipython-input-3-b0d1ac35c229>:40: FutureWarning: A value is trying to be set on a copy of a DataFrame or Series through chained assignment using an inplace method.\n",
            "The behavior will change in pandas 3.0. This inplace method will never work because the intermediate object on which we are setting values always behaves as a copy.\n",
            "\n",
            "For example, when doing 'df[col].method(value, inplace=True)', try using 'df.method({col: value}, inplace=True)' or df[col] = df[col].method(value) instead, to perform the operation inplace on the original object.\n",
            "\n",
            "\n",
            "  books['Year-Of-Publication'].fillna('Unknown', inplace=True)\n",
            "<ipython-input-3-b0d1ac35c229>:40: FutureWarning: Setting an item of incompatible dtype is deprecated and will raise an error in a future version of pandas. Value 'Unknown' has dtype incompatible with float64, please explicitly cast to a compatible dtype first.\n",
            "  books['Year-Of-Publication'].fillna('Unknown', inplace=True)\n"
          ]
        },
        {
          "output_type": "stream",
          "name": "stdout",
          "text": [
            "\n",
            "Missing values after handling:\n",
            "Missing values in Users: User-ID     0\n",
            "Location    0\n",
            "Age         0\n",
            "dtype: int64\n",
            "Missing values in Books: ISBN                   0\n",
            "Book-Title             0\n",
            "Book-Author            0\n",
            "Year-Of-Publication    0\n",
            "Publisher              0\n",
            "Image-URL-S            0\n",
            "Image-URL-M            0\n",
            "Image-URL-L            0\n",
            "dtype: int64\n",
            "\n",
            "Users Summary:\n",
            "             User-ID                         Location            Age\n",
            "count   278858.00000                           278858  278858.000000\n",
            "unique           NaN                            57339            NaN\n",
            "top              NaN  london, england, united kingdom            NaN\n",
            "freq             NaN                             2506            NaN\n",
            "mean    139429.50000                              NaN      34.772945\n",
            "std      80499.51502                              NaN      14.028794\n",
            "min          1.00000                              NaN      10.000000\n",
            "25%      69715.25000                              NaN      24.000000\n",
            "50%     139429.50000                              NaN      32.000000\n",
            "75%     209143.75000                              NaN      44.000000\n",
            "max     278858.00000                              NaN     100.000000\n",
            "\n",
            "Books Summary:\n",
            "              ISBN      Book-Title      Book-Author  Year-Of-Publication  \\\n",
            "count       271360          271360           271360             271360.0   \n",
            "unique      271360          242135           102022                116.0   \n",
            "top     0195153448  Selected Poems  Agatha Christie               2002.0   \n",
            "freq             1              27              632              17627.0   \n",
            "\n",
            "        Publisher                                        Image-URL-S  \\\n",
            "count      271360                                             271360   \n",
            "unique      16807                                             271044   \n",
            "top     Harlequin  http://images.amazon.com/images/P/185326119X.0...   \n",
            "freq         7535                                                  2   \n",
            "\n",
            "                                              Image-URL-M Image-URL-L  \n",
            "count                                              271360      271360  \n",
            "unique                                             271044      271042  \n",
            "top     http://images.amazon.com/images/P/185326119X.0...    No Image  \n",
            "freq                                                    2           3  \n",
            "\n",
            "Ratings Summary:\n",
            "              User-ID        ISBN    Book-Rating\n",
            "count   433671.000000      433671  433671.000000\n",
            "unique            NaN      185973            NaN\n",
            "top               NaN  0316666343            NaN\n",
            "freq              NaN         707            NaN\n",
            "mean    135458.743451         NaN       7.601066\n",
            "std      80678.385078         NaN       1.843798\n",
            "min          8.000000         NaN       1.000000\n",
            "25%      66619.000000         NaN       7.000000\n",
            "50%     133184.000000         NaN       8.000000\n",
            "75%     205735.000000         NaN       9.000000\n",
            "max     278854.000000         NaN      10.000000\n"
          ]
        }
      ]
    },
    {
      "cell_type": "markdown",
      "source": [
        "# Importing Libraries and Reading the Dataset\n",
        "\n",
        "We import the necessary libraries and define the paths to the dataset files. We then read the **Users**, **Books**, and **Ratings** datasets into Pandas DataFrames. Finally, we display the shape of each dataset to understand the data size.\n",
        "\n",
        "# Dataset Statistics\n",
        "\n",
        "The dataset includes the following:\n",
        "\n",
        "- **Users dataset**: 278,858 entries  \n",
        "- **Books dataset**: 271,360 entries  \n",
        "- **Ratings dataset**: 1,149,780 entries  \n",
        "\n",
        "## Books Dataset:\n",
        "- Convert `'Year-Of-Publication'` to numeric values, coercing errors to `NaN`.\n",
        "- Fill missing years with the median year.\n",
        "\n",
        "## Users Dataset:\n",
        "- Fill missing `'Age'` values with the median age.\n",
        "\n",
        "## Ratings Dataset:\n",
        "- Clean `'ISBN'` entries by:\n",
        "  - Stripping whitespace.\n",
        "  - Converting to uppercase for consistency.\n",
        "\n",
        "We also sample a subset of the data for faster processing during development.\n",
        "\n",
        "\n"
      ],
      "metadata": {
        "id": "OEdrJN__SMK5"
      }
    },
    {
      "cell_type": "markdown",
      "source": [
        "# 🧹 **Extensive Data Cleaning and Preprocessing**\n"
      ],
      "metadata": {
        "id": "Ub1O5niDvfC9"
      }
    },
    {
      "cell_type": "code",
      "source": [
        "# Data Cleaning and Preprocessing\n",
        "def filter_and_split_ratings(ratings, min_user_ratings=5, min_item_ratings=10, test_size=0.2, random_state=42):\n",
        "    # Filter users with sufficient interactions\n",
        "    user_counts = ratings['User-ID'].value_counts()\n",
        "    valid_users = user_counts[user_counts >= min_user_ratings].index\n",
        "    filtered_ratings = ratings[ratings['User-ID'].isin(valid_users)]\n",
        "\n",
        "    # Filter items with sufficient interactions\n",
        "    item_counts = filtered_ratings['ISBN'].value_counts()\n",
        "    valid_items = item_counts[item_counts >= min_item_ratings].index\n",
        "    filtered_ratings = filtered_ratings[filtered_ratings['ISBN'].isin(valid_items)]\n",
        "\n",
        "    # Ensure sufficient data remains after filtering\n",
        "    if len(filtered_ratings) < 100:\n",
        "        raise ValueError(\"Filtered dataset is too small. Adjust filtering thresholds.\")\n",
        "\n",
        "    # Split data into train and test sets\n",
        "    train_data, test_data = sklearn_train_test_split(filtered_ratings, test_size=test_size, random_state=random_state)\n",
        "\n",
        "    # Print summary\n",
        "    print(f\"Filtered Ratings: {len(filtered_ratings)}\")\n",
        "    print(f\"Training Set: {len(train_data)}, Test Set: {len(test_data)}\")\n",
        "\n",
        "    return train_data, test_data, filtered_ratings\n",
        "\n",
        "# Apply the function to filter and split ratings\n",
        "train_data, test_data, filtered_ratings = filter_and_split_ratings(\n",
        "    ratings=ratings,\n",
        "    min_user_ratings=5,    # Adjustable threshold for users\n",
        "    min_item_ratings=10,   # Adjustable threshold for items\n",
        "    test_size=0.2,         # 80/20 train-test split\n",
        "    random_state=42        # Seed for reproducibility\n",
        ")\n"
      ],
      "metadata": {
        "colab": {
          "base_uri": "https://localhost:8080/",
          "height": 0
        },
        "id": "RqmCP0N6-mLf",
        "outputId": "2a73b380-eec8-4c7a-987b-13b6e0cae01c"
      },
      "execution_count": 4,
      "outputs": [
        {
          "output_type": "stream",
          "name": "stdout",
          "text": [
            "Filtered Ratings: 96234\n",
            "Training Set: 76987, Test Set: 19247\n"
          ]
        }
      ]
    },
    {
      "cell_type": "markdown",
      "source": [
        "# Filtering Ratings and Splitting Data\n",
        "\n",
        "## Purpose\n",
        "Filter the **Ratings** dataset to include only users and books with sufficient ratings and split it into training and test sets.\n",
        "\n",
        "## Key Outputs\n",
        "- **Filtered Ratings**: 96,234 rows  \n",
        "- **Training Set**: 76,987 rows  \n",
        "- **Test Set**: 19,247 rows  \n",
        "\n",
        "## Explanation\n",
        "Filtering ensures that only meaningful data is used for training, removing sparse user and book records. Splitting the data into training and test sets allows for model evaluation on unseen data, ensuring the validity of performance metrics.\n"
      ],
      "metadata": {
        "id": "8YBWvXwHSWzf"
      }
    },
    {
      "cell_type": "markdown",
      "source": [
        "# ⚙️ **Baseline Methods**"
      ],
      "metadata": {
        "id": "ZJAdoLxkv15f"
      }
    },
    {
      "cell_type": "code",
      "source": [
        "# Baseline Methods\n",
        "\n",
        "# Global Mean Baseline\n",
        "def calculate_global_mean(ratings):\n",
        "    return ratings['Book-Rating'].mean()\n",
        "\n",
        "# User Mean Baseline\n",
        "def calculate_user_means(ratings):\n",
        "    return ratings.groupby('User-ID')['Book-Rating'].mean()\n",
        "\n",
        "# Item Mean Baseline\n",
        "def calculate_item_means(ratings):\n",
        "    return ratings.groupby('ISBN')['Book-Rating'].mean()\n",
        "\n",
        "# Compute global mean\n",
        "global_mean = calculate_global_mean(filtered_ratings)\n",
        "print(\"Global Mean Rating:\", global_mean)\n"
      ],
      "metadata": {
        "colab": {
          "base_uri": "https://localhost:8080/",
          "height": 0
        },
        "id": "lcUQp-Yw_eJr",
        "outputId": "51ddb5c3-cbc1-42b0-91d6-916dab9473e7"
      },
      "execution_count": 5,
      "outputs": [
        {
          "output_type": "stream",
          "name": "stdout",
          "text": [
            "Global Mean Rating: 7.82360704117048\n"
          ]
        }
      ]
    },
    {
      "cell_type": "code",
      "source": [
        "# Add User Mean Predictions to the test set\n",
        "def user_mean_prediction(test_data, user_means):\n",
        "    predictions = []\n",
        "    for _, row in test_data.iterrows():\n",
        "        user_id = row['User-ID']\n",
        "        if user_id in user_means:\n",
        "            predictions.append(user_means[user_id])\n",
        "        else:\n",
        "            predictions.append(global_mean)  # Fallback to global mean\n",
        "    return predictions\n",
        "\n",
        "# Add Item Mean Predictions to the test set\n",
        "def item_mean_prediction(test_data, item_means):\n",
        "    predictions = []\n",
        "    for _, row in test_data.iterrows():\n",
        "        isbn = row['ISBN']\n",
        "        if isbn in item_means:\n",
        "            predictions.append(item_means[isbn])\n",
        "        else:\n",
        "            predictions.append(global_mean)  # Fallback to global mean\n",
        "    return predictions\n",
        "\n",
        "# Calculate user and item means\n",
        "user_means = calculate_user_means(train_data)\n",
        "item_means = calculate_item_means(train_data)\n",
        "\n",
        "# Prepare test data\n",
        "test_ratings = test_data.reset_index(drop=True)\n",
        "\n",
        "# Generate predictions\n",
        "user_mean_preds = user_mean_prediction(test_ratings, user_means)\n",
        "item_mean_preds = item_mean_prediction(test_ratings, item_means)\n",
        "\n",
        "# Evaluate RMSE\n",
        "def calculate_rmse(true_ratings, predicted_ratings):\n",
        "    return np.sqrt(mean_squared_error(true_ratings, predicted_ratings))\n",
        "\n",
        "# True ratings\n",
        "true_ratings = test_ratings['Book-Rating'].values\n",
        "\n",
        "# Calculate RMSE for user and item mean predictions\n",
        "rmse_user_mean = calculate_rmse(true_ratings, user_mean_preds)\n",
        "rmse_item_mean = calculate_rmse(true_ratings, item_mean_preds)\n",
        "print(f\"User Mean Baseline RMSE: {rmse_user_mean:.4f}\")\n",
        "print(f\"Item Mean Baseline RMSE: {rmse_item_mean:.4f}\")\n"
      ],
      "metadata": {
        "colab": {
          "base_uri": "https://localhost:8080/",
          "height": 0
        },
        "id": "1BKzSaZQ_eMF",
        "outputId": "d3ed01ce-a0ef-4345-83d7-7ead6686932c"
      },
      "execution_count": 6,
      "outputs": [
        {
          "output_type": "stream",
          "name": "stdout",
          "text": [
            "User Mean Baseline RMSE: 1.6774\n",
            "Item Mean Baseline RMSE: 1.7476\n"
          ]
        }
      ]
    },
    {
      "cell_type": "markdown",
      "source": [
        "We implement three baseline methods:\n",
        "\n",
        "1. **🌐 Global Mean**:\n",
        "   - The average rating across all books and users.\n",
        "\n",
        "2. **👤 User Mean**:\n",
        "   - The average rating given by each user.\n",
        "\n",
        "3. **📚 Item Mean**:\n",
        "   - The average rating received by each book.\n",
        "\n",
        "These baselines provide simple reference points to compare the performance of more advanced models.\n"
      ],
      "metadata": {
        "id": "_DA9FQUBv__Y"
      }
    },
    {
      "cell_type": "markdown",
      "source": [
        "# Global Mean, User Mean, and Item Mean\n",
        "\n",
        "We calculated the following baseline metrics:\n",
        "\n",
        "- **Global Mean Rating**: 7.8236  \n",
        "- **User Mean RMSE**: 1.6774  \n",
        "- **Item Mean RMSE**: 1.7476  \n"
      ],
      "metadata": {
        "id": "O5ObyBAowEBM"
      }
    },
    {
      "cell_type": "markdown",
      "source": [
        "# 🔍 **Content-Based Filtering**"
      ],
      "metadata": {
        "id": "4sbNDjfMwVUN"
      }
    },
    {
      "cell_type": "code",
      "source": [
        "# Content-Based Filtering\n",
        "\n",
        "# 1. Calculate the number of ratings for each book\n",
        "book_ratings_count = ratings.groupby('ISBN').size().reset_index(name='ratings_count')\n",
        "\n",
        "# 2. Merge the ratings count with the books DataFrame\n",
        "books_with_ratings = pd.merge(books, book_ratings_count, on='ISBN', how='inner')\n",
        "\n",
        "# 3. Select the top N most rated books\n",
        "N = 10000  # Adjust N based on your memory capacity\n",
        "top_books = books_with_ratings.sort_values(by='ratings_count', ascending=False).head(N).reset_index(drop=True)\n",
        "\n",
        "# 4. Prepare the data for TF-IDF\n",
        "top_books['Book-Title'] = top_books['Book-Title'].fillna('')\n",
        "titles = top_books['Book-Title']\n",
        "\n",
        "# 5. Compute the TF-IDF matrix\n",
        "tfidf = TfidfVectorizer(stop_words='english')\n",
        "tfidf_matrix = tfidf.fit_transform(titles)\n",
        "\n",
        "# 6. Compute the cosine similarity matrix\n",
        "cosine_sim = cosine_similarity(tfidf_matrix, tfidf_matrix)\n",
        "\n",
        "# 7. Define the recommendation function\n",
        "def content_based_recommendations(title, cosine_sim, books_df, top_n=5):\n",
        "    if title not in books_df['Book-Title'].values:\n",
        "        return f\"'{title}' not found in the dataset. Please choose a valid book title.\"\n",
        "    idx = books_df[books_df['Book-Title'] == title].index[0]\n",
        "    sim_scores = list(enumerate(cosine_sim[idx]))\n",
        "    sim_scores = sorted(sim_scores, key=lambda x: x[1], reverse=True)\n",
        "    top_indices = [i[0] for i in sim_scores[1:top_n+1]]\n",
        "    top_books = books_df.iloc[top_indices]['Book-Title'].values\n",
        "    return top_books\n",
        "\n",
        "# 8. Test the recommendation function\n",
        "example_title = top_books['Book-Title'].iloc[0]\n",
        "recommendations = content_based_recommendations(example_title, cosine_sim, top_books)\n",
        "\n",
        "# 9. Display results\n",
        "print(f\"Recommendations for '{example_title}':\")\n",
        "for idx, book in enumerate(recommendations, start=1):\n",
        "    print(f\"{idx}. {book}\")\n"
      ],
      "metadata": {
        "colab": {
          "base_uri": "https://localhost:8080/",
          "height": 0
        },
        "id": "XvEdpzYh_ePA",
        "outputId": "d76adfbc-fc19-44d0-c6b4-d82ad857af1f"
      },
      "execution_count": 7,
      "outputs": [
        {
          "output_type": "stream",
          "name": "stdout",
          "text": [
            "Recommendations for 'The Lovely Bones: A Novel':\n",
            "1. The Lovely Bones\n",
            "2. Lovely in Her Bones\n",
            "3. Bones\n",
            "4. Bare Bones : A Novel\n",
            "5. Bare Bones : A Novel\n"
          ]
        }
      ]
    },
    {
      "cell_type": "markdown",
      "source": [
        "We implement a content-based filtering system:\n",
        "\n",
        "## TF-IDF Vectorization\n",
        "Convert book titles into TF-IDF features to capture the importance of words.\n",
        "\n",
        "## Cosine Similarity\n",
        "Calculate the similarity between books based on their TF-IDF vectors.\n",
        "\n",
        "## Recommendation Function\n",
        "Given a book title, recommend top N similar books based on cosine similarity scores.\n",
        "\n",
        "# Example Recommendation\n",
        "\n",
        "# Recommendations for 'The Lovely Bones: A Novel'\n",
        "\n",
        "1. **The Lovely Bones**  \n",
        "2. **Lovely in Her Bones**  \n",
        "3. **Bones**  \n",
        "4. **Bare Bones: A Novel**  \n",
        "5. **Bare Bones: A Novel**  \n"
      ],
      "metadata": {
        "id": "BX8ulNOjwbOf"
      }
    },
    {
      "cell_type": "markdown",
      "source": [
        "# 🤝 **Collaborative Filtering**"
      ],
      "metadata": {
        "id": "hCmXCTy6wpoH"
      }
    },
    {
      "cell_type": "code",
      "source": [
        "# Collaborative Filtering (SVD) - Corrected to use the same data split\n",
        "\n",
        "# Prepare the dataset for collaborative filtering using sklearn's train_test_split\n",
        "from surprise import SVD, Dataset, Reader\n",
        "from surprise import accuracy\n",
        "\n",
        "# Create a Reader object with the appropriate rating scale\n",
        "reader = Reader(rating_scale=(1, 10))\n",
        "\n",
        "# Prepare the training data for Surprise\n",
        "train_data_surprise = Dataset.load_from_df(train_data[['User-ID', 'ISBN', 'Book-Rating']], reader)\n",
        "\n",
        "# Build the training set\n",
        "trainset = train_data_surprise.build_full_trainset()\n",
        "\n",
        "# Train the SVD model\n",
        "svd = SVD(n_factors=100, n_epochs=30, lr_all=0.007, reg_all=0.05)\n",
        "svd.fit(trainset)\n",
        "\n",
        "# Generate predictions on the test set\n",
        "def generate_svd_predictions(test_data, svd_model):\n",
        "    true_ratings = []\n",
        "    predictions = []\n",
        "    for _, row in test_data.iterrows():\n",
        "        user_id = row['User-ID']\n",
        "        item_id = row['ISBN']\n",
        "        true_ratings.append(row['Book-Rating'])\n",
        "        # Predict rating; Surprise handles unknown users/items internally\n",
        "        prediction = svd_model.predict(user_id, item_id, r_ui=row['Book-Rating'], verbose=False).est\n",
        "        predictions.append(prediction)\n",
        "    return np.array(true_ratings), np.array(predictions)\n",
        "\n",
        "# Generate predictions\n",
        "true_ratings_svd, predictions_svd = generate_svd_predictions(test_data, svd)\n",
        "\n",
        "# Calculate RMSE for SVD model\n",
        "rmse_svd = calculate_rmse(true_ratings_svd, predictions_svd)\n",
        "print(f\"SVD RMSE: {rmse_svd:.4f}\")\n"
      ],
      "metadata": {
        "colab": {
          "base_uri": "https://localhost:8080/",
          "height": 0
        },
        "id": "v17rBnJd_eRb",
        "outputId": "16e0270f-c415-4264-d8c5-920ba96c5ddb"
      },
      "execution_count": 8,
      "outputs": [
        {
          "output_type": "stream",
          "name": "stdout",
          "text": [
            "SVD RMSE: 1.5828\n"
          ]
        }
      ]
    },
    {
      "cell_type": "markdown",
      "source": [
        "# Collaborative Filtering with SVD\n",
        "\n",
        "We implement collaborative filtering using **Singular Value Decomposition (SVD)**:\n",
        "\n",
        "## Data Preparation\n",
        "Use the surprise library to load data suitable for SVD.\n",
        "\n",
        "## Model Training\n",
        "Train the SVD model on the training set.\n",
        "\n",
        "## Evaluation\n",
        "Test the model on the test set and compute RMSE to assess prediction accuracy.\n",
        "\n",
        "# Model Performance\n",
        "\n",
        "The SVD model was trained using the Surprise library. Evaluation results:\n",
        "\n",
        "- **RMSE**: 1.5828\n"
      ],
      "metadata": {
        "id": "dkXqBgpkwumC"
      }
    },
    {
      "cell_type": "markdown",
      "source": [
        "# 🔗 **Hybrid Recommendation System**"
      ],
      "metadata": {
        "id": "h8rSC7Inw1oY"
      }
    },
    {
      "cell_type": "code",
      "source": [
        "from sklearn.metrics import mean_squared_error\n",
        "import numpy as np\n",
        "\n",
        "def improved_hybrid_recommendation(user_id, item_id, svd_model, content_sim_matrix, books, ratings, weights=None):\n",
        "    \"\"\"\n",
        "    Combines SVD predictions, content-based filtering, and global mean with dynamic weights.\n",
        "    Calculates hybrid recommendation score for a user-item pair.\n",
        "    \"\"\"\n",
        "    if weights is None:\n",
        "        weights = {'svd': 0.7, 'content': 0.2, 'global': 0.1}\n",
        "\n",
        "    # Collaborative Filtering Prediction (SVD)\n",
        "    try:\n",
        "        svd_prediction = svd_model.predict(user_id, item_id).est\n",
        "    except:\n",
        "        svd_prediction = ratings['Book-Rating'].mean()\n",
        "\n",
        "    # Content-Based Filtering Prediction\n",
        "    book_index = books[books['ISBN'] == item_id].index\n",
        "    if not book_index.empty:\n",
        "        content_scores = content_sim_matrix[book_index[0]]\n",
        "        top_indices = content_scores.argsort()[-6:-1]  # Get top 5 similar books\n",
        "        content_score = np.mean(content_scores[top_indices])\n",
        "    else:\n",
        "        content_score = 0.0\n",
        "\n",
        "    # Global Mean Rating\n",
        "    global_mean = ratings['Book-Rating'].mean()\n",
        "\n",
        "    # Combine predictions\n",
        "    hybrid_score = (\n",
        "        weights['svd'] * svd_prediction +\n",
        "        weights['content'] * content_score +\n",
        "        weights['global'] * global_mean\n",
        "    )\n",
        "    return hybrid_score\n",
        "\n",
        "\n",
        "def calculate_hybrid_rmse(test_data, svd_model, content_sim_matrix, books, ratings, weights=None):\n",
        "    \"\"\"\n",
        "    Calculates the RMSE for the hybrid recommendation system on the test dataset.\n",
        "    \"\"\"\n",
        "    true_ratings = []\n",
        "    predicted_ratings = []\n",
        "\n",
        "    for _, row in test_data.iterrows():\n",
        "        user_id = row['User-ID']\n",
        "        item_id = row['ISBN']\n",
        "        true_ratings.append(row['Book-Rating'])\n",
        "        predicted_ratings.append(\n",
        "            improved_hybrid_recommendation(\n",
        "                user_id=user_id,\n",
        "                item_id=item_id,\n",
        "                svd_model=svd_model,\n",
        "                content_sim_matrix=content_sim_matrix,\n",
        "                books=books,\n",
        "                ratings=ratings,\n",
        "                weights=weights\n",
        "            )\n",
        "        )\n",
        "\n",
        "    rmse_score = np.sqrt(mean_squared_error(true_ratings, predicted_ratings))\n",
        "    return rmse_score\n",
        "\n",
        "# Example Usage\n",
        "example_user = test_data['User-ID'].iloc[0]\n",
        "example_item = test_data['ISBN'].iloc[0]\n",
        "\n",
        "# Single prediction\n",
        "hybrid_score = improved_hybrid_recommendation(\n",
        "    user_id=example_user,\n",
        "    item_id=example_item,\n",
        "    svd_model=svd,\n",
        "    content_sim_matrix=cosine_sim,\n",
        "    books=top_books,\n",
        "    ratings=filtered_ratings\n",
        ")\n",
        "print(\"Hybrid Recommendation Score:\", hybrid_score)\n",
        "\n",
        "# RMSE for the entire test set\n",
        "hybrid_rmse = calculate_hybrid_rmse(\n",
        "    test_data=test_data,\n",
        "    svd_model=svd,\n",
        "    content_sim_matrix=cosine_sim,\n",
        "    books=top_books,\n",
        "    ratings=filtered_ratings\n",
        ")\n",
        "print(\"Hybrid Model RMSE:\", hybrid_rmse)\n"
      ],
      "metadata": {
        "colab": {
          "base_uri": "https://localhost:8080/",
          "height": 0
        },
        "id": "voSNeYML_lUJ",
        "outputId": "1bf1084d-6864-41fb-8532-5d1ad8a4afef"
      },
      "execution_count": 9,
      "outputs": [
        {
          "output_type": "stream",
          "name": "stdout",
          "text": [
            "Hybrid Recommendation Score: 6.193607556184501\n",
            "Hybrid Model RMSE: 2.153083222970212\n"
          ]
        }
      ]
    },
    {
      "cell_type": "markdown",
      "source": [
        "# Hybrid Recommendation System\n",
        "\n",
        "We create a hybrid recommendation system that combines:\n",
        "\n",
        "## Collaborative Filtering Prediction (SVD)\n",
        "- Captures user-item interactions.\n",
        "\n",
        "## Content-Based Prediction\n",
        "- Uses cosine similarity of book titles.\n",
        "\n",
        "## Global Mean Rating\n",
        "- Acts as a baseline.\n",
        "\n",
        "We assign weights to each component to control their influence on the final recommendation score.\n",
        "\n",
        "---\n",
        "\n",
        "## Output\n",
        "- **Hybrid Recommendation Score** for a sample: **6.1936**  \n",
        "- **Hybrid RMSE**: **2.1538**  \n",
        "\n",
        "---\n",
        "\n",
        "## Explanation\n",
        "This model combines the strengths of collaborative and content-based filtering, providing more robust recommendations. However, fine-tuning the weights is crucial to improve its performance.\n"
      ],
      "metadata": {
        "id": "jBUe8uQrTF7p"
      }
    },
    {
      "cell_type": "markdown",
      "source": [
        "# 🤖 **Neural Collaborative Filtering (NCF)**"
      ],
      "metadata": {
        "id": "cYWPpNsFxP8H"
      }
    },
    {
      "cell_type": "code",
      "source": [
        "# Install Keras Tuner\n",
        "!pip install keras-tuner\n",
        "\n",
        "# Import necessary modules\n",
        "import keras_tuner as kt\n",
        "from tensorflow.keras.callbacks import EarlyStopping\n",
        "from tensorflow.keras.layers import Input, Embedding, Flatten, Concatenate, Dense, Dropout\n",
        "from tensorflow.keras.models import Model\n",
        "import tensorflow as tf\n",
        "\n",
        "# Preprocess data for NCF\n",
        "def preprocess_data_for_ncf(ratings):\n",
        "    # Encode user and item IDs\n",
        "    user_encoder = LabelEncoder()\n",
        "    item_encoder = LabelEncoder()\n",
        "    ratings['user'] = user_encoder.fit_transform(ratings['User-ID'].astype(str))\n",
        "    ratings['item'] = item_encoder.fit_transform(ratings['ISBN'].astype(str))\n",
        "    # Prepare train-test split\n",
        "    train, test = sklearn_train_test_split(ratings, test_size=0.2, random_state=42)\n",
        "    # Extract input and target data\n",
        "    train_user = train['user'].values\n",
        "    train_item = train['item'].values\n",
        "    train_rating = train['Book-Rating'].values\n",
        "    test_user = test['user'].values\n",
        "    test_item = test['item'].values\n",
        "    test_rating = test['Book-Rating'].values\n",
        "    num_users = ratings['user'].nunique()\n",
        "    num_items = ratings['item'].nunique()\n",
        "    return train_user, train_item, train_rating, test_user, test_item, test_rating, num_users, num_items, user_encoder, item_encoder\n",
        "\n",
        "# Call the preprocessing function\n",
        "train_user, train_item, train_rating, test_user, test_item, test_rating, num_users, num_items, user_encoder, item_encoder = preprocess_data_for_ncf(filtered_ratings)\n",
        "\n",
        "# Define the HyperModel\n",
        "class NCFHyperModel(kt.HyperModel):\n",
        "    def __init__(self, num_users, num_items):\n",
        "        self.num_users = num_users\n",
        "        self.num_items = num_items\n",
        "\n",
        "    def build(self, hp):\n",
        "        # Hyperparameters to tune\n",
        "        latent_dim = hp.Int('latent_dim', min_value=8, max_value=64, step=8)\n",
        "        dense_units = hp.Int('dense_units', min_value=32, max_value=256, step=32)\n",
        "        dropout_rate = hp.Float('dropout_rate', min_value=0.0, max_value=0.5, step=0.1)\n",
        "        learning_rate = hp.Choice('learning_rate', values=[1e-3, 1e-4, 1e-5])\n",
        "\n",
        "        # Input layers\n",
        "        user_input = Input(shape=(1,), name='user_input')\n",
        "        item_input = Input(shape=(1,), name='item_input')\n",
        "\n",
        "        # Embedding layers\n",
        "        user_embedding = Embedding(input_dim=self.num_users, output_dim=latent_dim, name='user_embedding')(user_input)\n",
        "        item_embedding = Embedding(input_dim=self.num_items, output_dim=latent_dim, name='item_embedding')(item_input)\n",
        "\n",
        "        # Flatten embeddings\n",
        "        user_flat = Flatten()(user_embedding)\n",
        "        item_flat = Flatten()(item_embedding)\n",
        "\n",
        "        # Concatenate\n",
        "        concatenated = Concatenate()([user_flat, item_flat])\n",
        "\n",
        "        # Dense layers\n",
        "        x = Dense(dense_units, activation='relu')(concatenated)\n",
        "        x = Dropout(dropout_rate)(x)\n",
        "        x = Dense(dense_units // 2, activation='relu')(x)\n",
        "        x = Dropout(dropout_rate)(x)\n",
        "        x = Dense(dense_units // 4, activation='relu')(x)\n",
        "\n",
        "        # Output layer\n",
        "        output = Dense(1, activation='linear')(x)\n",
        "\n",
        "        # Build model\n",
        "        model = Model(inputs=[user_input, item_input], outputs=output)\n",
        "\n",
        "        # Compile model\n",
        "        optimizer = tf.keras.optimizers.Adam(learning_rate=learning_rate)\n",
        "        model.compile(optimizer=optimizer, loss='mse', metrics=['mae'])\n",
        "        return model\n",
        "\n",
        "# Initialize the hypermodel\n",
        "hypermodel = NCFHyperModel(num_users=num_users, num_items=num_items)\n",
        "\n",
        "# Set up the tuner\n",
        "tuner = kt.RandomSearch(\n",
        "    hypermodel,\n",
        "    objective='val_loss',\n",
        "    max_trials=5,  # Adjust the number of trials\n",
        "    executions_per_trial=1,\n",
        "    directory='ncf_tuning',\n",
        "    project_name='ncf_hyperparameter_tuning'\n",
        ")\n",
        "\n",
        "# Early stopping\n",
        "early_stopping = EarlyStopping(\n",
        "    monitor='val_loss',\n",
        "    patience=3,\n",
        "    restore_best_weights=True,\n",
        "    verbose=1\n",
        ")\n",
        "\n",
        "# Run the hyperparameter search\n",
        "tuner.search(\n",
        "    x=[train_user, train_item],\n",
        "    y=train_rating,\n",
        "    epochs=10,  # Use fewer epochs for tuning\n",
        "    validation_data=([test_user, test_item], test_rating),\n",
        "    callbacks=[early_stopping],\n",
        "    batch_size=512\n",
        ")\n",
        "\n",
        "# Get the optimal hyperparameters\n",
        "best_hps = tuner.get_best_hyperparameters(num_trials=1)[0]\n",
        "\n",
        "print(f\"\"\"\n",
        "The hyperparameter search is complete.\n",
        "- Optimal latent dimension: {best_hps.get('latent_dim')}\n",
        "- Optimal number of dense units: {best_hps.get('dense_units')}\n",
        "- Optimal dropout rate: {best_hps.get('dropout_rate')}\n",
        "- Optimal learning rate: {best_hps.get('learning_rate')}\n",
        "\"\"\")\n",
        "\n",
        "# Build the model with the optimal hyperparameters\n",
        "ncf_model = tuner.hypermodel.build(best_hps)\n",
        "\n",
        "# Retrain the model\n",
        "history = ncf_model.fit(\n",
        "    x=[train_user, train_item],\n",
        "    y=train_rating,\n",
        "    epochs=20,  # You can adjust the number of epochs\n",
        "    validation_data=([test_user, test_item], test_rating),\n",
        "    callbacks=[early_stopping],\n",
        "    batch_size=512\n",
        ")\n",
        "\n",
        "# Evaluate the tuned model\n",
        "test_loss, test_mae = ncf_model.evaluate([test_user, test_item], test_rating, verbose=1)\n",
        "print(\"Tuned NCF Test Loss (MSE):\", test_loss)\n",
        "print(\"Tuned NCF Test Mean Absolute Error (MAE):\", test_mae)\n"
      ],
      "metadata": {
        "colab": {
          "base_uri": "https://localhost:8080/",
          "height": 0
        },
        "id": "LfBa6aB7_lWq",
        "outputId": "9d15a767-4c0a-4d36-a751-cddee1fbe91a"
      },
      "execution_count": 10,
      "outputs": [
        {
          "output_type": "stream",
          "name": "stdout",
          "text": [
            "Trial 5 Complete [00h 00m 22s]\n",
            "val_loss: 2.5039379596710205\n",
            "\n",
            "Best val_loss So Far: 2.5039379596710205\n",
            "Total elapsed time: 00h 02m 12s\n",
            "\n",
            "The hyperparameter search is complete.\n",
            "- Optimal latent dimension: 40\n",
            "- Optimal number of dense units: 256\n",
            "- Optimal dropout rate: 0.1\n",
            "- Optimal learning rate: 0.001\n",
            "\n",
            "Epoch 1/20\n",
            "\u001b[1m151/151\u001b[0m \u001b[32m━━━━━━━━━━━━━━━━━━━━\u001b[0m\u001b[37m\u001b[0m \u001b[1m5s\u001b[0m 21ms/step - loss: 26.9289 - mae: 4.1414 - val_loss: 2.5855 - val_mae: 1.2405\n",
            "Epoch 2/20\n",
            "\u001b[1m151/151\u001b[0m \u001b[32m━━━━━━━━━━━━━━━━━━━━\u001b[0m\u001b[37m\u001b[0m \u001b[1m4s\u001b[0m 25ms/step - loss: 2.2849 - mae: 1.1648 - val_loss: 2.4981 - val_mae: 1.2087\n",
            "Epoch 3/20\n",
            "\u001b[1m151/151\u001b[0m \u001b[32m━━━━━━━━━━━━━━━━━━━━\u001b[0m\u001b[37m\u001b[0m \u001b[1m3s\u001b[0m 17ms/step - loss: 2.0153 - mae: 1.0862 - val_loss: 2.5134 - val_mae: 1.2160\n",
            "Epoch 4/20\n",
            "\u001b[1m151/151\u001b[0m \u001b[32m━━━━━━━━━━━━━━━━━━━━\u001b[0m\u001b[37m\u001b[0m \u001b[1m3s\u001b[0m 17ms/step - loss: 1.8977 - mae: 1.0528 - val_loss: 2.5299 - val_mae: 1.2107\n",
            "Epoch 5/20\n",
            "\u001b[1m151/151\u001b[0m \u001b[32m━━━━━━━━━━━━━━━━━━━━\u001b[0m\u001b[37m\u001b[0m \u001b[1m3s\u001b[0m 17ms/step - loss: 1.7800 - mae: 1.0152 - val_loss: 2.5649 - val_mae: 1.2224\n",
            "Epoch 5: early stopping\n",
            "Restoring model weights from the end of the best epoch: 2.\n",
            "\u001b[1m602/602\u001b[0m \u001b[32m━━━━━━━━━━━━━━━━━━━━\u001b[0m\u001b[37m\u001b[0m \u001b[1m2s\u001b[0m 3ms/step - loss: 2.4617 - mae: 1.2008\n",
            "Tuned NCF Test Loss (MSE): 2.4980831146240234\n",
            "Tuned NCF Test Mean Absolute Error (MAE): 1.2086502313613892\n"
          ]
        }
      ]
    },
    {
      "cell_type": "markdown",
      "source": [
        "We implement Neural Collaborative Filtering (NCF) using TensorFlow Keras:\n",
        "\n",
        "## Data Preprocessing\n",
        "- Encode user and item IDs to numerical indices.\n",
        "- Split data into training and test sets.\n",
        "\n",
        "## Model Definition\n",
        "- Build an NCF model with embedding layers for users and items.\n",
        "- Include dense layers to capture nonlinear interactions.\n",
        "\n",
        "## Model Training and Evaluation\n",
        "- Train the model and evaluate its performance using MSE and MAE.\n",
        "\n",
        "## Hybrid Recommendation\n",
        "- Combine predictions from the SVD model and the NCF model to enhance recommendation accuracy.\n",
        "\n",
        "## Outputs:\n",
        "\n",
        "NCF Test Loss (MSE): 2.4980\n",
        "\n",
        "NCF Test MAE: 1.2087"
      ],
      "metadata": {
        "id": "kqv0hypaxU4B"
      }
    },
    {
      "cell_type": "markdown",
      "source": [
        "# 📊 **Performance Metrics**"
      ],
      "metadata": {
        "id": "GC7X2U4BxhWG"
      }
    },
    {
      "cell_type": "code",
      "source": [
        "# Performance Evaluation\n",
        "\n",
        "# Function to generate predictions for SVD model\n",
        "def generate_svd_predictions(test_data, svd_model):\n",
        "    true_ratings = test_data['Book-Rating'].values\n",
        "    predictions = test_data.apply(lambda row: svd_model.predict(row['User-ID'], row['ISBN']).est, axis=1)\n",
        "    return true_ratings, predictions.values\n",
        "\n",
        "# Function to generate predictions for NCF model\n",
        "def generate_ncf_predictions(test_data, ncf_model, user_encoder, item_encoder):\n",
        "    user_ids = user_encoder.transform(test_data['User-ID'].astype(str))\n",
        "    item_ids = item_encoder.transform(test_data['ISBN'].astype(str))\n",
        "    predictions = ncf_model.predict([user_ids, item_ids]).flatten()\n",
        "    true_ratings = test_data['Book-Rating'].values\n",
        "    return true_ratings, predictions\n",
        "\n",
        "# Function to generate predictions for the Hybrid model\n",
        "def generate_hybrid_predictions(test_data, svd_model, cosine_sim_matrix, books, ratings):\n",
        "    true_ratings = []\n",
        "    predictions = []\n",
        "    for _, row in test_data.iterrows():\n",
        "        user_id = row['User-ID']\n",
        "        item_id = row['ISBN']\n",
        "        true_ratings.append(row['Book-Rating'])\n",
        "        hybrid_score = improved_hybrid_recommendation(\n",
        "            user_id=user_id,\n",
        "            item_id=item_id,\n",
        "            svd_model=svd_model,\n",
        "            content_sim_matrix=cosine_sim_matrix,\n",
        "            books=books,\n",
        "            ratings=ratings\n",
        "        )\n",
        "        predictions.append(hybrid_score)\n",
        "    return np.array(true_ratings), np.array(predictions)\n",
        "\n",
        "# Function to evaluate predictions with precision, recall, and F1-score\n",
        "def evaluate_predictions(true_ratings, predicted_ratings, thresholds=[6, 7, 8]):\n",
        "    results = {}\n",
        "    for threshold in thresholds:\n",
        "        # Convert continuous ratings to binary relevance\n",
        "        true_binary = (true_ratings >= threshold).astype(int)\n",
        "        pred_binary = (predicted_ratings >= threshold).astype(int)\n",
        "        precision = precision_score(true_binary, pred_binary, zero_division=0)\n",
        "        recall = recall_score(true_binary, pred_binary, zero_division=0)\n",
        "        f1 = f1_score(true_binary, pred_binary, zero_division=0)\n",
        "        results[threshold] = {'Precision': precision, 'Recall': recall, 'F1': f1}\n",
        "    return results\n",
        "\n",
        "# Generate predictions\n",
        "true_ratings_svd, predictions_svd = generate_svd_predictions(test_data, svd)\n",
        "true_ratings_ncf, predictions_ncf = generate_ncf_predictions(test_data, ncf_model, user_encoder, item_encoder)\n",
        "true_ratings_hybrid, predictions_hybrid = generate_hybrid_predictions(test_data, svd, cosine_sim, top_books, filtered_ratings)\n",
        "\n",
        "# Evaluate models\n",
        "thresholds = [6, 7, 8]\n",
        "results_svd = evaluate_predictions(true_ratings_svd, predictions_svd, thresholds)\n",
        "results_ncf = evaluate_predictions(true_ratings_ncf, predictions_ncf, thresholds)\n",
        "results_hybrid = evaluate_predictions(true_ratings_hybrid, predictions_hybrid, thresholds)\n",
        "\n",
        "# Calculate RMSE for all models\n",
        "rmse_svd = calculate_rmse(true_ratings_svd, predictions_svd)\n",
        "rmse_ncf = calculate_rmse(true_ratings_ncf, predictions_ncf)\n",
        "rmse_hybrid = calculate_rmse(true_ratings_hybrid, predictions_hybrid)\n",
        "\n",
        "# Display RMSE comparison\n",
        "print(\"\\nRMSE Comparison:\")\n",
        "print(f\"SVD RMSE: {rmse_svd:.4f}\")\n",
        "print(f\"NCF RMSE: {rmse_ncf:.4f}\")\n",
        "print(f\"Hybrid RMSE: {rmse_hybrid:.4f}\")\n",
        "print(f\"User Mean RMSE: {rmse_user_mean:.4f}\")\n",
        "print(f\"Item Mean RMSE: {rmse_item_mean:.4f}\")\n"
      ],
      "metadata": {
        "colab": {
          "base_uri": "https://localhost:8080/",
          "height": 0
        },
        "id": "O1D7150a_lZL",
        "outputId": "c496413a-6e95-445f-f590-597d1baceaff"
      },
      "execution_count": 11,
      "outputs": [
        {
          "output_type": "stream",
          "name": "stdout",
          "text": [
            "\u001b[1m602/602\u001b[0m \u001b[32m━━━━━━━━━━━━━━━━━━━━\u001b[0m\u001b[37m\u001b[0m \u001b[1m3s\u001b[0m 4ms/step\n",
            "\n",
            "RMSE Comparison:\n",
            "SVD RMSE: 1.5828\n",
            "NCF RMSE: 1.5805\n",
            "Hybrid RMSE: 2.1531\n",
            "User Mean RMSE: 1.6774\n",
            "Item Mean RMSE: 1.7476\n"
          ]
        }
      ]
    },
    {
      "cell_type": "code",
      "source": [
        "# Function to display the evaluation results\n",
        "def display_evaluation_results(results, model_name):\n",
        "    print(f\"\\n{model_name} Evaluation Metrics:\")\n",
        "    for threshold, metrics in results.items():\n",
        "        print(f\"Threshold >= {threshold}:\")\n",
        "        print(f\"Precision: {metrics['Precision']:.4f}\")\n",
        "        print(f\"Recall:    {metrics['Recall']:.4f}\")\n",
        "        print(f\"F1 Score:  {metrics['F1']:.4f}\")\n",
        "        print(\"-\" * 30)\n",
        "\n",
        "# Display evaluation results for each model\n",
        "display_evaluation_results(results_svd, \"SVD Model\")\n",
        "display_evaluation_results(results_ncf, \"NCF Model\")\n",
        "display_evaluation_results(results_hybrid, \"Hybrid Model\")\n"
      ],
      "metadata": {
        "id": "A_oaQHV4C7bZ",
        "colab": {
          "base_uri": "https://localhost:8080/",
          "height": 0
        },
        "outputId": "c2ed414c-c8e9-4279-a527-3144d2bdd014"
      },
      "execution_count": 12,
      "outputs": [
        {
          "output_type": "stream",
          "name": "stdout",
          "text": [
            "\n",
            "SVD Model Evaluation Metrics:\n",
            "Threshold >= 6:\n",
            "Precision: 0.8825\n",
            "Recall:    0.9901\n",
            "F1 Score:  0.9332\n",
            "------------------------------\n",
            "Threshold >= 7:\n",
            "Precision: 0.8471\n",
            "Recall:    0.9076\n",
            "F1 Score:  0.8763\n",
            "------------------------------\n",
            "Threshold >= 8:\n",
            "Precision: 0.7984\n",
            "Recall:    0.5407\n",
            "F1 Score:  0.6447\n",
            "------------------------------\n",
            "\n",
            "NCF Model Evaluation Metrics:\n",
            "Threshold >= 6:\n",
            "Precision: 0.8860\n",
            "Recall:    0.9858\n",
            "F1 Score:  0.9332\n",
            "------------------------------\n",
            "Threshold >= 7:\n",
            "Precision: 0.8594\n",
            "Recall:    0.8684\n",
            "F1 Score:  0.8639\n",
            "------------------------------\n",
            "Threshold >= 8:\n",
            "Precision: 0.8074\n",
            "Recall:    0.5472\n",
            "F1 Score:  0.6523\n",
            "------------------------------\n",
            "\n",
            "Hybrid Model Evaluation Metrics:\n",
            "Threshold >= 6:\n",
            "Precision: 0.9175\n",
            "Recall:    0.8044\n",
            "F1 Score:  0.8573\n",
            "------------------------------\n",
            "Threshold >= 7:\n",
            "Precision: 0.9503\n",
            "Recall:    0.1708\n",
            "F1 Score:  0.2895\n",
            "------------------------------\n",
            "Threshold >= 8:\n",
            "Precision: 0.0000\n",
            "Recall:    0.0000\n",
            "F1 Score:  0.0000\n",
            "------------------------------\n"
          ]
        }
      ]
    },
    {
      "cell_type": "code",
      "source": [
        "# Plotting function for evaluation metrics (Line Plots)\n",
        "import matplotlib.pyplot as plt\n",
        "import numpy as np\n",
        "\n",
        "def plot_evaluation_metrics(results_dict, model_names, thresholds):\n",
        "    metrics = ['Precision', 'Recall', 'F1']\n",
        "\n",
        "    for metric in metrics:\n",
        "        plt.figure(figsize=(10, 6))\n",
        "        for model_name in model_names:\n",
        "            results = results_dict[model_name]\n",
        "            scores = [results[t][metric] for t in thresholds]\n",
        "            plt.plot(thresholds, scores, marker='o', label=model_name)\n",
        "\n",
        "        plt.title(f'{metric} vs. Thresholds')\n",
        "        plt.xlabel('Threshold')\n",
        "        plt.ylabel(metric)\n",
        "        plt.xticks(thresholds)\n",
        "        plt.legend()\n",
        "        plt.grid(True)\n",
        "        plt.show()\n",
        "\n",
        "# Prepare the results dictionary\n",
        "results_dict = {\n",
        "    'SVD': results_svd,\n",
        "    'NCF': results_ncf,\n",
        "    'Hybrid': results_hybrid\n",
        "}\n",
        "\n",
        "model_names = ['SVD', 'NCF', 'Hybrid']\n",
        "\n",
        "# Plot the evaluation metrics\n",
        "plot_evaluation_metrics(results_dict, model_names, thresholds)\n",
        "\n",
        "\n",
        "# Plotting function for evaluation metrics (Bar Charts)\n",
        "def plot_evaluation_metrics_bar(results_dict, model_names, thresholds):\n",
        "    metrics = ['Precision', 'Recall', 'F1']\n",
        "    num_models = len(model_names)\n",
        "    x = np.arange(len(thresholds))  # Label locations\n",
        "    width = 0.25  # Width of the bars\n",
        "\n",
        "    for metric in metrics:\n",
        "        fig, ax = plt.subplots(figsize=(10, 6))\n",
        "        for idx, model_name in enumerate(model_names):\n",
        "            results = results_dict[model_name]\n",
        "            scores = [results[t][metric] for t in thresholds]\n",
        "            ax.bar(x + idx * width, scores, width, label=model_name)\n",
        "\n",
        "        ax.set_title(f'{metric} vs. Thresholds')\n",
        "        ax.set_xlabel('Threshold')\n",
        "        ax.set_ylabel(metric)\n",
        "        ax.set_xticks(x + width)\n",
        "        ax.set_xticklabels(thresholds)\n",
        "        ax.legend()\n",
        "        ax.grid(True)\n",
        "        plt.show()\n",
        "\n",
        "# Plot the evaluation metrics as bar charts\n",
        "plot_evaluation_metrics_bar(results_dict, model_names, thresholds)\n",
        "\n"
      ],
      "metadata": {
        "id": "hQis2yMGCvnB",
        "colab": {
          "base_uri": "https://localhost:8080/",
          "height": 3299
        },
        "outputId": "d3b71f20-48ca-492f-cfc9-3c53c6313834"
      },
      "execution_count": 13,
      "outputs": [
        {
          "output_type": "display_data",
          "data": {
            "text/plain": [
              "<Figure size 1000x600 with 1 Axes>"
            ],
            "image/png": "[encoded data removed]"
          },
          "metadata": {}
        },
        {
          "output_type": "display_data",
          "data": {
            "text/plain": [
              "<Figure size 1000x600 with 1 Axes>"
            ],
            "image/png": "[encoded data removed]"
          },
          "metadata": {}
        },
        {
          "output_type": "display_data",
          "data": {
            "text/plain": [
              "<Figure size 1000x600 with 1 Axes>"
            ],
            "image/png": "[encoded data removed]"
          },
          "metadata": {}
        },
        {
          "output_type": "display_data",
          "data": {
            "text/plain": [
              "<Figure size 1000x600 with 1 Axes>"
            ],
            "image/png": "[encoded data removed]"
          },
          "metadata": {}
        },
        {
          "output_type": "display_data",
          "data": {
            "text/plain": [
              "<Figure size 1000x600 with 1 Axes>"
            ],
            "image/png": "[encoded data removed]"
          },
          "metadata": {}
        },
        {
          "output_type": "display_data",
          "data": {
            "text/plain": [
              "<Figure size 1000x600 with 1 Axes>"
            ],
            "image/png": "[encoded data removed]"
          },
          "metadata": {}
        }
      ]
    },
    {
      "cell_type": "markdown",
      "source": [
        "## **6. Discussion**\n",
        "\n",
        "### **6.1 Key Findings**\n",
        "\n",
        "- **SVD Model**:\n",
        "  - Initially achieved the lowest RMSE, indicating accurate predictions.\n",
        "  - Demonstrated a good balance between precision and recall.\n",
        "  - Effectively captured latent factors in user-item interactions.\n",
        "\n",
        "- **NCF Model**:\n",
        "  - After implementing hyperparameter tuning, the NCF model achieved the lowest RMSE of **1.5805**, surpassing the SVD model.\n",
        "  - Exhibited slightly higher precision at lower thresholds.\n",
        "  - Hyperparameter tuning enhanced the model's ability to capture complex, non-linear user-item interactions.\n",
        "\n",
        "- **Hybrid Model**:\n",
        "  - Adjusted the model weights to improve performance.\n",
        "  - Despite adjustments, it still exhibited high precision but significantly lower recall at higher thresholds.\n",
        "  - RMSE remained higher (**2.1531**) than both the SVD and NCF models, indicating the need for further refinement.\n",
        "\n",
        "### **6.2 Interpretations**\n",
        "\n",
        "- **Impact of Hyperparameter Tuning**:\n",
        "  - Hyperparameter tuning significantly improved the NCF model's performance.\n",
        "  - It allowed the NCF model to outperform the SVD model, highlighting the importance of model optimization.\n",
        "  - Demonstrated that advanced models like NCF can surpass traditional methods when properly tuned.\n",
        "\n",
        "- **Model Performance**:\n",
        "  - Both the SVD and NCF models outperform simple baseline methods in terms of RMSE and balanced evaluation metrics.\n",
        "  - The NCF model, after tuning, provides the most accurate predictions, emphasizing the value of neural networks in capturing complex patterns.\n",
        "\n",
        "- **Hybrid Model Adjustments**:\n",
        "  - Adjusting the hybrid model's weights led to slight improvements.\n",
        "  - However, it remains overly conservative with high precision but low recall.\n",
        "  - Indicates that further adjustments or alternative approaches may be necessary for practical use.\n",
        "\n",
        "### **6.3 Challenges and Considerations**\n",
        "\n",
        "- **Data Sparsity**:\n",
        "  - The sparse nature of the dataset posed challenges, particularly for the NCF model.\n",
        "  - Hyperparameter tuning helped mitigate some effects of data sparsity.\n",
        "\n",
        "- **Cold-Start Problem**:\n",
        "  - New users or items with no historical data continue to present challenges for the recommendation system.\n",
        "\n",
        "- **Computational Complexity**:\n",
        "  - The NCF model required substantial computational resources and longer training times, especially during hyperparameter tuning.\n",
        "  - Balancing computational cost and model performance is essential.\n",
        "\n",
        "- **Evaluation Metrics Trade-Off**:\n",
        "  - Achieving a balance between precision and recall remains crucial.\n",
        "  - High precision with low recall, as seen in the hybrid model, may not be beneficial for users seeking diverse recommendations.\n",
        "\n",
        "---\n",
        "\n",
        "## **7. Conclusion**\n",
        "\n",
        "This project successfully developed and evaluated a comprehensive book recommendation system using the Book-Crossing dataset. The key accomplishments include:\n",
        "\n",
        "- **Implementation of Various Models**:\n",
        "  - Baseline methods provided foundational reference points.\n",
        "  - Content-based filtering offered recommendations based on item features.\n",
        "  - Collaborative filtering (SVD) effectively captured user-item interactions.\n",
        "  - Neural collaborative filtering (NCF) initially performed comparably to the SVD model.\n",
        "  - **After implementing hyperparameter tuning, the NCF model outperformed the SVD model**, achieving the lowest RMSE.\n",
        "  - The hybrid model combined multiple approaches, and adjustments were made to its weights to enhance performance.\n",
        "\n",
        "- **Performance Evaluation**:\n",
        "  - The **NCF model emerged as the most effective**, achieving the lowest RMSE of **1.5805** and maintaining a good balance between precision and recall.\n",
        "  - The SVD model remained a strong performer with an RMSE of **1.5828**, closely matching the NCF model before tuning.\n",
        "  - The hybrid model's adjustments improved precision slightly but still resulted in low recall, indicating the need for further refinement.\n",
        "\n",
        "- **Insights and Learnings**:\n",
        "  - **Hyperparameter tuning is crucial** for unlocking the full potential of complex models like NCF.\n",
        "  - Properly optimized advanced models can outperform traditional methods, even in sparse datasets.\n",
        "  - Balancing precision and recall is vital for user satisfaction.\n",
        "  - Data quality and quantity significantly impact model effectiveness.\n",
        "\n",
        "### **Timeline of Progress**\n",
        "\n",
        "- **Initial Phase**:\n",
        "  - Implemented baseline models, content-based filtering, and the SVD model.\n",
        "  - The SVD model achieved the lowest RMSE initially.\n",
        "\n",
        "- **Implementation of NCF Model**:\n",
        "  - Introduced the NCF model, which performed comparably to the SVD model but did not outperform it.\n",
        "\n",
        "- **Hyperparameter Tuning**:\n",
        "  - Recognized the potential of the NCF model and implemented hyperparameter tuning.\n",
        "  - This adjustment allowed the NCF model to **surpass the SVD model** in performance.\n",
        "\n",
        "- **Hybrid Model Adjustments**:\n",
        "  - Adjusted the hybrid model's weights to improve its effectiveness.\n",
        "  - Despite improvements, it still requires further refinement.\n",
        "\n",
        "### **Future Work**\n",
        "\n",
        "To enhance the recommendation system further, the following steps are recommended:\n",
        "\n",
        "- ~~**Hyperparameter Tuning**: Optimize model parameters, especially for NCF and the hybrid model.~~\n",
        "\n",
        "- ~~**Hybrid Model Adjustment**: Rebalance the weights to improve recall without significantly compromising precision.~~\n",
        "\n",
        "- **Data Augmentation**: Incorporate additional user ratings and item metadata (e.g., genres, descriptions).\n",
        "\n",
        "- **Advanced Techniques**: Explore other algorithms like matrix factorization for implicit feedback, ensemble methods, or attention mechanisms.\n",
        "\n",
        "- **Address Cold-Start Problem**: Implement strategies for new users and items, possibly through content-based methods or using demographic data.\n",
        "\n",
        "---\n",
        "\n",
        "**Note**: The strikethrough text indicates the completion of tasks initially planned for future work, reflecting our project's progression and iterative improvement process.\n",
        "\n",
        "---\n",
        "\n",
        "By implementing hyperparameter tuning on the NCF model and adjusting the hybrid model's weights, we improved the recommendation system's accuracy and demonstrated the importance of model optimization. Initially, the SVD model was the best performer, but through iterative enhancements, the NCF model ultimately surpassed it, highlighting the value of continuous model refinement.\n"
      ],
      "metadata": {
        "id": "-icVOYaqQnax"
      }
    }
  ]
}